{
 "cells": [
  {
   "attachments": {},
   "cell_type": "markdown",
   "metadata": {},
   "source": [
    "# 03 Memories\n",
    "\n",
    "Work in progress"
   ]
  },
  {
   "cell_type": "code",
   "execution_count": null,
   "metadata": {
    "dotnet_interactive": {
     "language": "csharp"
    },
    "polyglot_notebook": {
     "kernelName": "csharp"
    },
    "vscode": {
     "languageId": "polyglot-notebook"
    }
   },
   "outputs": [],
   "source": [
    "#r \"nuget: Microsoft.SemanticKernel, 0.17.230711.7-preview\"\n",
    "#r \"nuget: dotenv.net, 3.1.2\"\n",
    "\n",
    "using dotenv.net;\n",
    "\n",
    "// Read values from .env file\n",
    "var envVars = DotEnv.Fluent()\n",
    "    .WithoutExceptions()\n",
    "    .WithEnvFiles(\"../../../.env\")\n",
    "    .WithTrimValues()\n",
    "    .WithDefaultEncoding()\n",
    "    .WithOverwriteExistingVars()\n",
    "    .WithoutProbeForEnv()\n",
    "    .Read();\n",
    "\n",
    "// Load values into variables and strip quotes\n",
    "var model = envVars[\"AZURE_OPENAI_COMPLETION_DEPLOYMENT_NAME\"].Replace(\"\\\"\", \"\");\n",
    "var embeddingModel = envVars[\"AZURE_OPENAI_EMBEDDING_DEPLOYMENT_NAME\"].Replace(\"\\\"\", \"\");\n",
    "var azureEndpoint = envVars[\"OPENAI_API_BASE\"].Replace(\"\\\"\", \"\");\n",
    "var apiKey = envVars[\"OPENAI_API_KEY\"].Replace(\"\\\"\", \"\");"
   ]
  },
  {
   "cell_type": "code",
   "execution_count": null,
   "metadata": {
    "dotnet_interactive": {
     "language": "csharp"
    },
    "polyglot_notebook": {
     "kernelName": "csharp"
    },
    "vscode": {
     "languageId": "polyglot-notebook"
    }
   },
   "outputs": [],
   "source": [
    "#r \"nuget: Microsoft.SemanticKernel.Connectors.Memory.Chroma, 0.17.230711.7-preview\"\n",
    "using Microsoft.SemanticKernel.Connectors.Memory.Chroma;"
   ]
  },
  {
   "cell_type": "code",
   "execution_count": null,
   "metadata": {
    "dotnet_interactive": {
     "language": "csharp"
    },
    "polyglot_notebook": {
     "kernelName": "csharp"
    },
    "vscode": {
     "languageId": "polyglot-notebook"
    }
   },
   "outputs": [],
   "source": [
    "using Microsoft.SemanticKernel;\n",
    "\n",
    "var builder = new KernelBuilder();\n",
    "builder.WithAzureTextEmbeddingGenerationService(embeddingModel, azureEndpoint, apiKey);\n",
    "builder.WithAzureTextCompletionService(model, azureEndpoint, apiKey);"
   ]
  },
  {
   "cell_type": "code",
   "execution_count": null,
   "metadata": {
    "dotnet_interactive": {
     "language": "csharp"
    },
    "polyglot_notebook": {
     "kernelName": "csharp"
    },
    "vscode": {
     "languageId": "polyglot-notebook"
    }
   },
   "outputs": [],
   "source": [
    "var chromaMemoryStore = new ChromaMemoryStore(\"http://127.0.0.1:8000\");\n",
    "builder.WithMemoryStorage(chromaMemoryStore);"
   ]
  },
  {
   "cell_type": "code",
   "execution_count": null,
   "metadata": {
    "dotnet_interactive": {
     "language": "csharp"
    },
    "polyglot_notebook": {
     "kernelName": "csharp"
    },
    "vscode": {
     "languageId": "polyglot-notebook"
    }
   },
   "outputs": [],
   "source": [
    "var kernel = builder.Build();"
   ]
  }
 ],
 "metadata": {
  "language_info": {
   "name": "python"
  },
  "orig_nbformat": 4
 },
 "nbformat": 4,
 "nbformat_minor": 2
}
