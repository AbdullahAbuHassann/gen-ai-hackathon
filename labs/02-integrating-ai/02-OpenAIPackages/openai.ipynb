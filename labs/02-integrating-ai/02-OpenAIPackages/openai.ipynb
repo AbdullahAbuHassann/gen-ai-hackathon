{
 "cells": [
  {
   "attachments": {},
   "cell_type": "markdown",
   "metadata": {},
   "source": [
    "# 02 - Using the OpenAI Library\n",
    "\n",
    "In the [first](../01-AzureOpenAIAPI/azureopenaiapi.ipynb) lab, we walked through calling the Azure OpenAI API directly to list available model deployments and submit a prompt for completion. An easier way to work with an API is to use a *Library*. A Library is a collection of packages and modules that allow reusable code to be shared with the community.\n",
    "\n",
    "In this lab, we'll use the OpenAI Python library to perform the same operations as we did in the first lab."
   ]
  },
  {
   "attachments": {},
   "cell_type": "markdown",
   "metadata": {},
   "source": [
    "First, we use the `import` statement to let our application know that we're going to be using the OpenAI library in our code."
   ]
  },
  {
   "cell_type": "code",
   "execution_count": 1,
   "metadata": {},
   "outputs": [],
   "source": [
    "import openai"
   ]
  },
  {
   "attachments": {},
   "cell_type": "markdown",
   "metadata": {},
   "source": [
    "Next, we'll bring in the values from our `.env` file."
   ]
  },
  {
   "cell_type": "code",
   "execution_count": 2,
   "metadata": {},
   "outputs": [
    {
     "data": {
      "text/plain": [
       "True"
      ]
     },
     "execution_count": 2,
     "metadata": {},
     "output_type": "execute_result"
    }
   ],
   "source": [
    "import os\n",
    "from dotenv import load_dotenv\n",
    "\n",
    "# Load environment variables\n",
    "load_dotenv()"
   ]
  },
  {
   "attachments": {},
   "cell_type": "markdown",
   "metadata": {},
   "source": [
    "The OpenAI library needs some configuration parameters set to allow it to work with the OpenAI service. We'll set the following parameters.\n",
    "\n",
    "Parameter name | Description\n",
    "--- | ---\n",
    "`openai.api_type` | We set this value to indicate whether we're using the native OpenAI service, or the Azure OpenAI service\n",
    "`openai.api_key` | This is the value for our API key\n",
    "`openai.api_base` | This is the resource endpoint for the OpenAI service we're using\n",
    "`openai_api_version` | This is the version of the API we are going to use"
   ]
  },
  {
   "cell_type": "code",
   "execution_count": 3,
   "metadata": {},
   "outputs": [],
   "source": [
    "openai.api_type = os.getenv(\"OPENAI_API_TYPE\")\n",
    "openai.api_key = os.getenv(\"OPENAI_API_KEY\")\n",
    "openai.api_base = os.getenv(\"OPENAI_API_BASE\")\n",
    "openai.api_version = os.getenv(\"OPENAI_API_VERSION\")"
   ]
  },
  {
   "attachments": {},
   "cell_type": "markdown",
   "metadata": {},
   "source": [
    "## Get the list of available Model Deployments\n",
    "\n",
    "We can now call the `Deployment.list()` method of the OpenAI library."
   ]
  },
  {
   "cell_type": "code",
   "execution_count": 4,
   "metadata": {},
   "outputs": [
    {
     "ename": "AttributeError",
     "evalue": "'NoneType' object has no attribute 'lower'",
     "output_type": "error",
     "traceback": [
      "\u001b[0;31m---------------------------------------------------------------------------\u001b[0m",
      "\u001b[0;31mAttributeError\u001b[0m                            Traceback (most recent call last)",
      "\u001b[1;32m/Users/dennis/labs/intro-to-intelligent-apps/labs/02-integrating-ai/02-OpenAIPackages/openai.ipynb Cell 9\u001b[0m in \u001b[0;36m<cell line: 1>\u001b[0;34m()\u001b[0m\n\u001b[0;32m----> <a href='vscode-notebook-cell:/Users/dennis/labs/intro-to-intelligent-apps/labs/02-integrating-ai/02-OpenAIPackages/openai.ipynb#X11sZmlsZQ%3D%3D?line=0'>1</a>\u001b[0m openai\u001b[39m.\u001b[39;49mDeployment\u001b[39m.\u001b[39;49mlist()\n",
      "File \u001b[0;32m/Library/Frameworks/Python.framework/Versions/3.10/lib/python3.10/site-packages/openai/api_resources/deployment.py:73\u001b[0m, in \u001b[0;36mDeployment.list\u001b[0;34m(cls, *args, **kwargs)\u001b[0m\n\u001b[1;32m     71\u001b[0m \u001b[39m@classmethod\u001b[39m\n\u001b[1;32m     72\u001b[0m \u001b[39mdef\u001b[39;00m \u001b[39mlist\u001b[39m(\u001b[39mcls\u001b[39m, \u001b[39m*\u001b[39margs, \u001b[39m*\u001b[39m\u001b[39m*\u001b[39mkwargs):\n\u001b[0;32m---> 73\u001b[0m     \u001b[39mcls\u001b[39;49m\u001b[39m.\u001b[39;49m_check_list(\u001b[39m*\u001b[39;49margs, \u001b[39m*\u001b[39;49m\u001b[39m*\u001b[39;49mkwargs)\n\u001b[1;32m     74\u001b[0m     \u001b[39mreturn\u001b[39;00m \u001b[39msuper\u001b[39m()\u001b[39m.\u001b[39mlist(\u001b[39m*\u001b[39margs, \u001b[39m*\u001b[39m\u001b[39m*\u001b[39mkwargs)\n",
      "File \u001b[0;32m/Library/Frameworks/Python.framework/Versions/3.10/lib/python3.10/site-packages/openai/api_resources/deployment.py:63\u001b[0m, in \u001b[0;36mDeployment._check_list\u001b[0;34m(cls, *args, **kwargs)\u001b[0m\n\u001b[1;32m     61\u001b[0m \u001b[39m@classmethod\u001b[39m\n\u001b[1;32m     62\u001b[0m \u001b[39mdef\u001b[39;00m \u001b[39m_check_list\u001b[39m(\u001b[39mcls\u001b[39m, \u001b[39m*\u001b[39margs, \u001b[39m*\u001b[39m\u001b[39m*\u001b[39mkwargs):\n\u001b[0;32m---> 63\u001b[0m     typed_api_type, _ \u001b[39m=\u001b[39m \u001b[39mcls\u001b[39;49m\u001b[39m.\u001b[39;49m_get_api_type_and_version(\n\u001b[1;32m     64\u001b[0m         kwargs\u001b[39m.\u001b[39;49mget(\u001b[39m\"\u001b[39;49m\u001b[39mapi_type\u001b[39;49m\u001b[39m\"\u001b[39;49m, \u001b[39mNone\u001b[39;49;00m), \u001b[39mNone\u001b[39;49;00m\n\u001b[1;32m     65\u001b[0m     )\n\u001b[1;32m     66\u001b[0m     \u001b[39mif\u001b[39;00m typed_api_type \u001b[39mnot\u001b[39;00m \u001b[39min\u001b[39;00m (util\u001b[39m.\u001b[39mApiType\u001b[39m.\u001b[39mAZURE, util\u001b[39m.\u001b[39mApiType\u001b[39m.\u001b[39mAZURE_AD):\n\u001b[1;32m     67\u001b[0m         \u001b[39mraise\u001b[39;00m APIError(\n\u001b[1;32m     68\u001b[0m             \u001b[39m\"\u001b[39m\u001b[39mDeployment operations are only available for the Azure API type.\u001b[39m\u001b[39m\"\u001b[39m\n\u001b[1;32m     69\u001b[0m         )\n",
      "File \u001b[0;32m/Library/Frameworks/Python.framework/Versions/3.10/lib/python3.10/site-packages/openai/api_resources/abstract/api_resource.py:169\u001b[0m, in \u001b[0;36mAPIResource._get_api_type_and_version\u001b[0;34m(cls, api_type, api_version)\u001b[0m\n\u001b[1;32m    162\u001b[0m \u001b[39m@classmethod\u001b[39m\n\u001b[1;32m    163\u001b[0m \u001b[39mdef\u001b[39;00m \u001b[39m_get_api_type_and_version\u001b[39m(\n\u001b[1;32m    164\u001b[0m     \u001b[39mcls\u001b[39m, api_type: Optional[\u001b[39mstr\u001b[39m] \u001b[39m=\u001b[39m \u001b[39mNone\u001b[39;00m, api_version: Optional[\u001b[39mstr\u001b[39m] \u001b[39m=\u001b[39m \u001b[39mNone\u001b[39;00m\n\u001b[1;32m    165\u001b[0m ):\n\u001b[1;32m    166\u001b[0m     typed_api_type \u001b[39m=\u001b[39m (\n\u001b[1;32m    167\u001b[0m         ApiType\u001b[39m.\u001b[39mfrom_str(api_type)\n\u001b[1;32m    168\u001b[0m         \u001b[39mif\u001b[39;00m api_type\n\u001b[0;32m--> 169\u001b[0m         \u001b[39melse\u001b[39;00m ApiType\u001b[39m.\u001b[39;49mfrom_str(openai\u001b[39m.\u001b[39;49mapi_type)\n\u001b[1;32m    170\u001b[0m     )\n\u001b[1;32m    171\u001b[0m     typed_api_version \u001b[39m=\u001b[39m api_version \u001b[39mor\u001b[39;00m openai\u001b[39m.\u001b[39mapi_version\n\u001b[1;32m    172\u001b[0m     \u001b[39mreturn\u001b[39;00m (typed_api_type, typed_api_version)\n",
      "File \u001b[0;32m/Library/Frameworks/Python.framework/Versions/3.10/lib/python3.10/site-packages/openai/util.py:35\u001b[0m, in \u001b[0;36mApiType.from_str\u001b[0;34m(label)\u001b[0m\n\u001b[1;32m     33\u001b[0m \u001b[39m@staticmethod\u001b[39m\n\u001b[1;32m     34\u001b[0m \u001b[39mdef\u001b[39;00m \u001b[39mfrom_str\u001b[39m(label):\n\u001b[0;32m---> 35\u001b[0m     \u001b[39mif\u001b[39;00m label\u001b[39m.\u001b[39;49mlower() \u001b[39m==\u001b[39m \u001b[39m\"\u001b[39m\u001b[39mazure\u001b[39m\u001b[39m\"\u001b[39m:\n\u001b[1;32m     36\u001b[0m         \u001b[39mreturn\u001b[39;00m ApiType\u001b[39m.\u001b[39mAZURE\n\u001b[1;32m     37\u001b[0m     \u001b[39melif\u001b[39;00m label\u001b[39m.\u001b[39mlower() \u001b[39min\u001b[39;00m (\u001b[39m\"\u001b[39m\u001b[39mazure_ad\u001b[39m\u001b[39m\"\u001b[39m, \u001b[39m\"\u001b[39m\u001b[39mazuread\u001b[39m\u001b[39m\"\u001b[39m):\n",
      "\u001b[0;31mAttributeError\u001b[0m: 'NoneType' object has no attribute 'lower'"
     ]
    }
   ],
   "source": [
    "openai.Deployment.list()"
   ]
  },
  {
   "attachments": {},
   "cell_type": "markdown",
   "metadata": {},
   "source": [
    "You'll see that the result is the same JSON data that we got when we called the API directly.\n",
    "\n",
    "## Send a prompt to Azure OpenAI using the OpenAI library\n",
    "\n",
    "Ok, now that we have the list of deployment models, let's try to do a Completion.\n",
    "\n",
    "We'll use the values from our `.env` file to configure this."
   ]
  },
  {
   "cell_type": "code",
   "execution_count": 5,
   "metadata": {},
   "outputs": [],
   "source": [
    "COMPLETION_MODEL = os.getenv(\"OPENAI_COMPLETION_MODEL\")\n",
    "DEPLOYMENT_ID = os.getenv(\"AZURE_OPENAI_COMPLETION_DEPLOYMENT_NAME\")"
   ]
  },
  {
   "attachments": {},
   "cell_type": "markdown",
   "metadata": {},
   "source": [
    "As we've configured the OpenAI Python library in the previous steps, we can go ahead and call the completions method to generate a response. We'll call the `Completion.create()` method and pass in the name of our `model`, the `deployment_id` and the `prompt` we want to use."
   ]
  },
  {
   "cell_type": "code",
   "execution_count": 6,
   "metadata": {},
   "outputs": [
    {
     "ename": "AttributeError",
     "evalue": "'NoneType' object has no attribute 'lower'",
     "output_type": "error",
     "traceback": [
      "\u001b[0;31m---------------------------------------------------------------------------\u001b[0m",
      "\u001b[0;31mAttributeError\u001b[0m                            Traceback (most recent call last)",
      "\u001b[1;32m/Users/dennis/labs/intro-to-intelligent-apps/labs/02-integrating-ai/02-OpenAIPackages/openai.ipynb Cell 13\u001b[0m in \u001b[0;36m<cell line: 1>\u001b[0;34m()\u001b[0m\n\u001b[0;32m----> <a href='vscode-notebook-cell:/Users/dennis/labs/intro-to-intelligent-apps/labs/02-integrating-ai/02-OpenAIPackages/openai.ipynb#X15sZmlsZQ%3D%3D?line=0'>1</a>\u001b[0m r \u001b[39m=\u001b[39m openai\u001b[39m.\u001b[39;49mCompletion\u001b[39m.\u001b[39;49mcreate(\n\u001b[1;32m      <a href='vscode-notebook-cell:/Users/dennis/labs/intro-to-intelligent-apps/labs/02-integrating-ai/02-OpenAIPackages/openai.ipynb#X15sZmlsZQ%3D%3D?line=1'>2</a>\u001b[0m     model \u001b[39m=\u001b[39;49m COMPLETION_MODEL,\n\u001b[1;32m      <a href='vscode-notebook-cell:/Users/dennis/labs/intro-to-intelligent-apps/labs/02-integrating-ai/02-OpenAIPackages/openai.ipynb#X15sZmlsZQ%3D%3D?line=2'>3</a>\u001b[0m     deployment_id \u001b[39m=\u001b[39;49m DEPLOYMENT_ID,\n\u001b[1;32m      <a href='vscode-notebook-cell:/Users/dennis/labs/intro-to-intelligent-apps/labs/02-integrating-ai/02-OpenAIPackages/openai.ipynb#X15sZmlsZQ%3D%3D?line=3'>4</a>\u001b[0m     prompt \u001b[39m=\u001b[39;49m \u001b[39m\"\u001b[39;49m\u001b[39mThe one thing I love more than anything else is \u001b[39;49m\u001b[39m\"\u001b[39;49m,\n\u001b[1;32m      <a href='vscode-notebook-cell:/Users/dennis/labs/intro-to-intelligent-apps/labs/02-integrating-ai/02-OpenAIPackages/openai.ipynb#X15sZmlsZQ%3D%3D?line=4'>5</a>\u001b[0m )\n\u001b[1;32m      <a href='vscode-notebook-cell:/Users/dennis/labs/intro-to-intelligent-apps/labs/02-integrating-ai/02-OpenAIPackages/openai.ipynb#X15sZmlsZQ%3D%3D?line=6'>7</a>\u001b[0m \u001b[39mprint\u001b[39m(r)\n",
      "File \u001b[0;32m/Library/Frameworks/Python.framework/Versions/3.10/lib/python3.10/site-packages/openai/api_resources/completion.py:25\u001b[0m, in \u001b[0;36mCompletion.create\u001b[0;34m(cls, *args, **kwargs)\u001b[0m\n\u001b[1;32m     23\u001b[0m \u001b[39mwhile\u001b[39;00m \u001b[39mTrue\u001b[39;00m:\n\u001b[1;32m     24\u001b[0m     \u001b[39mtry\u001b[39;00m:\n\u001b[0;32m---> 25\u001b[0m         \u001b[39mreturn\u001b[39;00m \u001b[39msuper\u001b[39;49m()\u001b[39m.\u001b[39;49mcreate(\u001b[39m*\u001b[39;49margs, \u001b[39m*\u001b[39;49m\u001b[39m*\u001b[39;49mkwargs)\n\u001b[1;32m     26\u001b[0m     \u001b[39mexcept\u001b[39;00m TryAgain \u001b[39mas\u001b[39;00m e:\n\u001b[1;32m     27\u001b[0m         \u001b[39mif\u001b[39;00m timeout \u001b[39mis\u001b[39;00m \u001b[39mnot\u001b[39;00m \u001b[39mNone\u001b[39;00m \u001b[39mand\u001b[39;00m time\u001b[39m.\u001b[39mtime() \u001b[39m>\u001b[39m start \u001b[39m+\u001b[39m timeout:\n",
      "File \u001b[0;32m/Library/Frameworks/Python.framework/Versions/3.10/lib/python3.10/site-packages/openai/api_resources/abstract/engine_api_resource.py:149\u001b[0m, in \u001b[0;36mEngineAPIResource.create\u001b[0;34m(cls, api_key, api_base, api_type, request_id, api_version, organization, **params)\u001b[0m\n\u001b[1;32m    127\u001b[0m \u001b[39m@classmethod\u001b[39m\n\u001b[1;32m    128\u001b[0m \u001b[39mdef\u001b[39;00m \u001b[39mcreate\u001b[39m(\n\u001b[1;32m    129\u001b[0m     \u001b[39mcls\u001b[39m,\n\u001b[0;32m   (...)\u001b[0m\n\u001b[1;32m    136\u001b[0m     \u001b[39m*\u001b[39m\u001b[39m*\u001b[39mparams,\n\u001b[1;32m    137\u001b[0m ):\n\u001b[1;32m    138\u001b[0m     (\n\u001b[1;32m    139\u001b[0m         deployment_id,\n\u001b[1;32m    140\u001b[0m         engine,\n\u001b[1;32m    141\u001b[0m         timeout,\n\u001b[1;32m    142\u001b[0m         stream,\n\u001b[1;32m    143\u001b[0m         headers,\n\u001b[1;32m    144\u001b[0m         request_timeout,\n\u001b[1;32m    145\u001b[0m         typed_api_type,\n\u001b[1;32m    146\u001b[0m         requestor,\n\u001b[1;32m    147\u001b[0m         url,\n\u001b[1;32m    148\u001b[0m         params,\n\u001b[0;32m--> 149\u001b[0m     ) \u001b[39m=\u001b[39m \u001b[39mcls\u001b[39;49m\u001b[39m.\u001b[39;49m__prepare_create_request(\n\u001b[1;32m    150\u001b[0m         api_key, api_base, api_type, api_version, organization, \u001b[39m*\u001b[39;49m\u001b[39m*\u001b[39;49mparams\n\u001b[1;32m    151\u001b[0m     )\n\u001b[1;32m    153\u001b[0m     response, _, api_key \u001b[39m=\u001b[39m requestor\u001b[39m.\u001b[39mrequest(\n\u001b[1;32m    154\u001b[0m         \u001b[39m\"\u001b[39m\u001b[39mpost\u001b[39m\u001b[39m\"\u001b[39m,\n\u001b[1;32m    155\u001b[0m         url,\n\u001b[0;32m   (...)\u001b[0m\n\u001b[1;32m    160\u001b[0m         request_timeout\u001b[39m=\u001b[39mrequest_timeout,\n\u001b[1;32m    161\u001b[0m     )\n\u001b[1;32m    163\u001b[0m     \u001b[39mif\u001b[39;00m stream:\n\u001b[1;32m    164\u001b[0m         \u001b[39m# must be an iterator\u001b[39;00m\n",
      "File \u001b[0;32m/Library/Frameworks/Python.framework/Versions/3.10/lib/python3.10/site-packages/openai/api_resources/abstract/engine_api_resource.py:80\u001b[0m, in \u001b[0;36mEngineAPIResource.__prepare_create_request\u001b[0;34m(cls, api_key, api_base, api_type, api_version, organization, **params)\u001b[0m\n\u001b[1;32m     78\u001b[0m headers \u001b[39m=\u001b[39m params\u001b[39m.\u001b[39mpop(\u001b[39m\"\u001b[39m\u001b[39mheaders\u001b[39m\u001b[39m\"\u001b[39m, \u001b[39mNone\u001b[39;00m)\n\u001b[1;32m     79\u001b[0m request_timeout \u001b[39m=\u001b[39m params\u001b[39m.\u001b[39mpop(\u001b[39m\"\u001b[39m\u001b[39mrequest_timeout\u001b[39m\u001b[39m\"\u001b[39m, \u001b[39mNone\u001b[39;00m)\n\u001b[0;32m---> 80\u001b[0m typed_api_type \u001b[39m=\u001b[39m \u001b[39mcls\u001b[39;49m\u001b[39m.\u001b[39;49m_get_api_type_and_version(api_type\u001b[39m=\u001b[39;49mapi_type)[\u001b[39m0\u001b[39m]\n\u001b[1;32m     81\u001b[0m \u001b[39mif\u001b[39;00m typed_api_type \u001b[39min\u001b[39;00m (util\u001b[39m.\u001b[39mApiType\u001b[39m.\u001b[39mAZURE, util\u001b[39m.\u001b[39mApiType\u001b[39m.\u001b[39mAZURE_AD):\n\u001b[1;32m     82\u001b[0m     \u001b[39mif\u001b[39;00m deployment_id \u001b[39mis\u001b[39;00m \u001b[39mNone\u001b[39;00m \u001b[39mand\u001b[39;00m engine \u001b[39mis\u001b[39;00m \u001b[39mNone\u001b[39;00m:\n",
      "File \u001b[0;32m/Library/Frameworks/Python.framework/Versions/3.10/lib/python3.10/site-packages/openai/api_resources/abstract/api_resource.py:169\u001b[0m, in \u001b[0;36mAPIResource._get_api_type_and_version\u001b[0;34m(cls, api_type, api_version)\u001b[0m\n\u001b[1;32m    162\u001b[0m \u001b[39m@classmethod\u001b[39m\n\u001b[1;32m    163\u001b[0m \u001b[39mdef\u001b[39;00m \u001b[39m_get_api_type_and_version\u001b[39m(\n\u001b[1;32m    164\u001b[0m     \u001b[39mcls\u001b[39m, api_type: Optional[\u001b[39mstr\u001b[39m] \u001b[39m=\u001b[39m \u001b[39mNone\u001b[39;00m, api_version: Optional[\u001b[39mstr\u001b[39m] \u001b[39m=\u001b[39m \u001b[39mNone\u001b[39;00m\n\u001b[1;32m    165\u001b[0m ):\n\u001b[1;32m    166\u001b[0m     typed_api_type \u001b[39m=\u001b[39m (\n\u001b[1;32m    167\u001b[0m         ApiType\u001b[39m.\u001b[39mfrom_str(api_type)\n\u001b[1;32m    168\u001b[0m         \u001b[39mif\u001b[39;00m api_type\n\u001b[0;32m--> 169\u001b[0m         \u001b[39melse\u001b[39;00m ApiType\u001b[39m.\u001b[39;49mfrom_str(openai\u001b[39m.\u001b[39;49mapi_type)\n\u001b[1;32m    170\u001b[0m     )\n\u001b[1;32m    171\u001b[0m     typed_api_version \u001b[39m=\u001b[39m api_version \u001b[39mor\u001b[39;00m openai\u001b[39m.\u001b[39mapi_version\n\u001b[1;32m    172\u001b[0m     \u001b[39mreturn\u001b[39;00m (typed_api_type, typed_api_version)\n",
      "File \u001b[0;32m/Library/Frameworks/Python.framework/Versions/3.10/lib/python3.10/site-packages/openai/util.py:35\u001b[0m, in \u001b[0;36mApiType.from_str\u001b[0;34m(label)\u001b[0m\n\u001b[1;32m     33\u001b[0m \u001b[39m@staticmethod\u001b[39m\n\u001b[1;32m     34\u001b[0m \u001b[39mdef\u001b[39;00m \u001b[39mfrom_str\u001b[39m(label):\n\u001b[0;32m---> 35\u001b[0m     \u001b[39mif\u001b[39;00m label\u001b[39m.\u001b[39;49mlower() \u001b[39m==\u001b[39m \u001b[39m\"\u001b[39m\u001b[39mazure\u001b[39m\u001b[39m\"\u001b[39m:\n\u001b[1;32m     36\u001b[0m         \u001b[39mreturn\u001b[39;00m ApiType\u001b[39m.\u001b[39mAZURE\n\u001b[1;32m     37\u001b[0m     \u001b[39melif\u001b[39;00m label\u001b[39m.\u001b[39mlower() \u001b[39min\u001b[39;00m (\u001b[39m\"\u001b[39m\u001b[39mazure_ad\u001b[39m\u001b[39m\"\u001b[39m, \u001b[39m\"\u001b[39m\u001b[39mazuread\u001b[39m\u001b[39m\"\u001b[39m):\n",
      "\u001b[0;31mAttributeError\u001b[0m: 'NoneType' object has no attribute 'lower'"
     ]
    }
   ],
   "source": [
    "r = openai.Completion.create(\n",
    "    model = COMPLETION_MODEL,\n",
    "    deployment_id = DEPLOYMENT_ID,\n",
    "    prompt = \"The one thing I love more than anything else is \",\n",
    ")\n",
    "\n",
    "print(r)"
   ]
  },
  {
   "attachments": {},
   "cell_type": "markdown",
   "metadata": {},
   "source": [
    "Again, the response above should be the same JSON data that we got when we called the API directly, containing details of the model we called, the response that was generated and the token usage.\n",
    "\n",
    "We could also just extract the generated response."
   ]
  },
  {
   "cell_type": "code",
   "execution_count": null,
   "metadata": {},
   "outputs": [],
   "source": [
    "print(r.choices[0].text)"
   ]
  },
  {
   "attachments": {},
   "cell_type": "markdown",
   "metadata": {},
   "source": [
    "## Summary\n",
    "\n",
    "The OpenAI library provides a more concise way to work with the OpenAI API. Once we've set up the initial parameters, we don't need to send them each time as we need to do with a direct API call. It's also easier to add information such as prompts to the call, as we can pass those values in as part of the call to the OpenAI library methods instead of having to pass in JSON objects as part of the request body.\n",
    "\n",
    "You can find more details about the completions API in the reference documentation:\n",
    "\n",
    "https://platform.openai.com/docs/api-reference/completions/create"
   ]
  },
  {
   "attachments": {},
   "cell_type": "markdown",
   "metadata": {},
   "source": [
    "## Up Next\n",
    "\n",
    "In the next lab we'll begin looking at AI orchestrators. Whereas the OpenAI library simplfies working with the OpenAI API, orchestrators take things to the next level!"
   ]
  }
 ],
 "metadata": {
  "kernelspec": {
   "display_name": "Python 3",
   "language": "python",
   "name": "python3"
  },
  "language_info": {
   "codemirror_mode": {
    "name": "ipython",
    "version": 3
   },
   "file_extension": ".py",
   "mimetype": "text/x-python",
   "name": "python",
   "nbconvert_exporter": "python",
   "pygments_lexer": "ipython3",
   "version": "3.10.2"
  },
  "orig_nbformat": 4
 },
 "nbformat": 4,
 "nbformat_minor": 2
}
