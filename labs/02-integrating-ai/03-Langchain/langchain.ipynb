{
 "cells": [
  {
   "attachments": {},
   "cell_type": "markdown",
   "metadata": {},
   "source": [
    "# 03 - Langchain\n",
    "\n",
    "In this lab, we will introduce [Langchain](https://python.langchain.com/docs/get_started/introduction), a framework for developing applications powered by language models.\n",
    "\n",
    "Langchain supports Python and Javascript / Typescript. For this lab, we will use Python."
   ]
  },
  {
   "attachments": {},
   "cell_type": "markdown",
   "metadata": {},
   "source": [
    "We'll start by importing the `AzureOpenAI` specific components from the `langchain` package, including models and schemas for interacting with the API."
   ]
  },
  {
   "cell_type": "code",
   "execution_count": 1,
   "metadata": {},
   "outputs": [],
   "source": [
    "from langchain_openai import AzureChatOpenAI"
   ]
  },
  {
   "attachments": {},
   "cell_type": "markdown",
   "metadata": {},
   "source": [
    "As with all the other labs, we'll need to provide our API key and endpoint details, so we'll load them from our `.env` file."
   ]
  },
  {
   "cell_type": "code",
   "execution_count": 2,
   "metadata": {},
   "outputs": [
    {
     "name": "stdout",
     "output_type": "stream",
     "text": [
      "Found Azure OpenAI Endpoint: https://kingfisher-hack.openai.azure.com/\n"
     ]
    }
   ],
   "source": [
    "import os\n",
    "import openai\n",
    "from dotenv import load_dotenv\n",
    "\n",
    "if load_dotenv():\n",
    "    print(\"Found Azure OpenAI Endpoint: \" + os.getenv(\"AZURE_OPENAI_ENDPOINT\"))\n",
    "else: \n",
    "    print(\"No file .env found\")"
   ]
  },
  {
   "attachments": {},
   "cell_type": "markdown",
   "metadata": {},
   "source": [
    "Next, we'll configure Langchain by providing the Azure OpenAI deployment name. Langchain will automatically retrieve details for the Azure OpenAI endpoint and version from the environment variables we've set above."
   ]
  },
  {
   "cell_type": "code",
   "execution_count": 3,
   "metadata": {},
   "outputs": [],
   "source": [
    "# Create an instance of Azure OpenAI\n",
    "llm = AzureChatOpenAI(\n",
    "    azure_deployment = os.getenv(\"AZURE_OPENAI_COMPLETION_DEPLOYMENT_NAME\")\n",
    ")"
   ]
  },
  {
   "attachments": {},
   "cell_type": "markdown",
   "metadata": {},
   "source": [
    "## Send a prompt to Azure OpenAI using Langchain\n",
    "\n",
    "We're now ready to send a request to Azure OpenAI. To do this, we invoke the `llm` instance we created above and pass in the prompt."
   ]
  },
  {
   "cell_type": "code",
   "execution_count": 4,
   "metadata": {},
   "outputs": [
    {
     "name": "stdout",
     "output_type": "stream",
     "text": [
      "A Raspberry Pi is a versatile and affordable single-board computer that can be used for a wide range of projects. Here are some ideas of things you could make with a Raspberry Pi:\n",
      "\n",
      "1. **Retro Gaming Console**: Use emulation software like RetroPie to turn your Raspberry Pi into a retro gaming console that can play games from systems like the NES, SNES, Sega Genesis, and more.\n",
      "\n",
      "2. **Media Center**: Install software like Kodi or Plex to transform your Raspberry Pi into a media center for streaming and playing videos, music, and other media.\n",
      "\n",
      "3. **Home Automation System**: Use the Raspberry Pi as a hub to control smart home devices. You can integrate it with platforms like Home Assistant or OpenHAB.\n",
      "\n",
      "4. **Network Attached Storage (NAS)**: Set up the Raspberry Pi as a NAS device to store and share files across your home network.\n",
      "\n",
      "5. **Web Server**: Host a website or web applications by setting up a Raspberry Pi as a web server using software like Apache, Nginx, or LAMP stack.\n",
      "\n",
      "6. **Ad-Blocker**: Install Pi-hole to use your Raspberry Pi as a network-wide ad blocker, keeping all your devices free of intrusive ads.\n",
      "\n",
      "7. **Weather Station**: Connect sensors to your Raspberry Pi to create a custom weather station that monitors temperature, humidity, and other environmental conditions.\n",
      "\n",
      "8. **Surveillance System**: Set up a security camera system using a Raspberry Pi with motion detection software like MotionEyeOS.\n",
      "\n",
      "9. **Educational Tool**: Use the Raspberry Pi to teach programming and electronics by connecting it with various sensors, LEDs, and other components.\n",
      "\n",
      "10. **Digital Photo Frame**: Create a digital photo frame that displays pictures from local storage or cloud services like Google Photos.\n",
      "\n",
      "11. **VPN Server**: Set up a VPN server on your Raspberry Pi to securely access your home network from anywhere in the world.\n",
      "\n",
      "12. **Voice Assistant**: Build a DIY voice assistant using platforms like Mycroft or Jasper to create a custom smart speaker.\n",
      "\n",
      "13. **Robotics**: Use the Raspberry Pi to control robots, rovers, or drones, integrating it with motors, cameras, and other hardware components.\n",
      "\n",
      "14. **Time-Lapse Camera**: Create a time-lapse camera setup using a Raspberry Pi and a connected camera module to capture stunning time-lapse videos.\n",
      "\n",
      "15. **Arcade Machine**: Convert an old cabinet or build your own to house a Raspberry Pi-powered arcade machine using arcade emulator software.\n",
      "\n",
      "These are just a few examples, and the possibilities are almost endless with a Raspberry Pi given its flexibility and the wide range of available accessories and software.\n"
     ]
    }
   ],
   "source": [
    "r = llm.invoke(\"What things could I make with a Raspberry Pi?\")\n",
    "\n",
    "# Print the response\n",
    "print(r.content)"
   ]
  },
  {
   "cell_type": "markdown",
   "metadata": {},
   "source": [
    "Compared to using the OpenAI Python library as we did in the previous lab, Langchain further simplified the process of interacting with the LLM by reducing it to a `llm.invoke` call."
   ]
  },
  {
   "attachments": {},
   "cell_type": "markdown",
   "metadata": {},
   "source": [
    "## Using templates and chains\n",
    "\n",
    "We've seen that we can use Langchain to interact with the LLM and it's a little easier to work with than the OpenAI Python library. However, that's just the start of how Langchain makes it easier to work with LLM's. Most OpenAI models are designed to be interacted with using a Chat style interface, where you provide a persona or system prompt which helps the LLM understand the context of the conversation. This will then be sent to the LLM along with the user's request.\n",
    "\n",
    "So that you don't have to setup the persona / system prompt every time you want to interact with the LLM, Langchain provides the concept of Templates. Templates are a way to define the persona and system prompt once and then reuse them across multiple interactions."
   ]
  },
  {
   "cell_type": "code",
   "execution_count": 5,
   "metadata": {},
   "outputs": [],
   "source": [
    "from langchain_core.prompts import ChatPromptTemplate\n",
    "prompt = ChatPromptTemplate.from_messages([\n",
    "    (\"system\", \"You are a chatbot that helps people generate ideas for their next project. You can help them brainstorm ideas, come up with a plan, or even help them with their project.\"),\n",
    "    (\"user\", \"{input}\")\n",
    "])"
   ]
  },
  {
   "cell_type": "markdown",
   "metadata": {},
   "source": [
    "Above we've defined a \"system\" message which will tell the LLM how we're expecting it to respond, and an `{input}` placeholder for the user's prompt.\n",
    "\n",
    "Next, we define a chain. A chain allows us to define a sequence of operations that we want to perform. In this case, we're defining a simple chain that will take the prompt we've defined above and send it to the LLM."
   ]
  },
  {
   "cell_type": "code",
   "execution_count": 6,
   "metadata": {},
   "outputs": [],
   "source": [
    "chain = prompt | llm"
   ]
  },
  {
   "cell_type": "markdown",
   "metadata": {},
   "source": [
    "Now, we can invoke the chain in a similar fashion to how to invoked the LLM earlier. This time, we're passing in the user's input as a parameter to the chain, which will replace the `{input}` placeholder in the prompt."
   ]
  },
  {
   "cell_type": "code",
   "execution_count": 7,
   "metadata": {},
   "outputs": [
    {
     "data": {
      "text/plain": [
       "AIMessage(content=\"Absolutely! The Raspberry Pi is a versatile and powerful little computer that can be used for a wide variety of projects. Here are some ideas to help you get started:\\n\\n1. **Home Automation System**: Use your Raspberry Pi to control smart devices around your home. You could integrate it with platforms like Home Assistant to manage lighting, thermostats, and security cameras.\\n\\n2. **Retro Gaming Console**: Turn your Raspberry Pi into a retro gaming console using software like RetroPie. You can play classic games from consoles like NES, SNES, and PlayStation.\\n\\n3. **Media Center**: Set up a media center using Kodi or Plex to stream movies, TV shows, and music to your TV or other devices.\\n\\n4. **Personal Web Server**: Host your own website or blog on a Raspberry Pi. This can be a great way to learn about web hosting and server management.\\n\\n5. **Weather Station**: Build a weather station that collects and displays data such as temperature, humidity, and atmospheric pressure. You can use sensors like the DHT22 for this project.\\n\\n6. **Network Attached Storage (NAS)**: Transform your Raspberry Pi into a personal cloud storage device to store and access your files from anywhere.\\n\\n7. **Smart Mirror**: Create a smart mirror that displays information like the time, weather, and calendar events. This can be a fun and visually appealing project.\\n\\n8. **AI Assistant**: Build your own voice-activated AI assistant using software like Mycroft or Google Assistant SDK on your Raspberry Pi.\\n\\n9. **Surveillance Camera**: Set up a surveillance system using a camera module to monitor your home or office. You can integrate motion detection and alerts to enhance security.\\n\\n10. **Digital Picture Frame**: Use your Raspberry Pi to display a slideshow of your favorite photos on a connected display or monitor.\\n\\n11. **Time-Lapse Camera**: Create a time-lapse camera to capture stunning images over a period. This can be a great project for photography enthusiasts.\\n\\n12. **Educational Robot**: Build a simple robot using motors and sensors, and program it to perform tasks or navigate its environment.\\n\\n13. **Music Streaming Box**: Set up a music streaming server with software like Volumio or Mopidy to play your music collection.\\n\\n14. **VPN Server**: Enhance your online privacy by setting up a private VPN server on your Raspberry Pi.\\n\\n15. **Plant Monitoring System**: Develop a system to monitor and care for plants, including soil moisture sensors and automated watering.\\n\\nThink about what interests you most or what skills you'd like to develop further. Each of these projects can be customized to fit your unique needs and preferences. If you need help getting started with any specific project, feel free to ask!\", additional_kwargs={'refusal': None}, response_metadata={'token_usage': {'completion_tokens': 556, 'prompt_tokens': 70, 'total_tokens': 626, 'completion_tokens_details': None, 'prompt_tokens_details': None}, 'model_name': 'gpt-4o-2024-08-06', 'system_fingerprint': 'fp_04751d0b65', 'prompt_filter_results': [{'prompt_index': 0, 'content_filter_results': {'hate': {'filtered': False, 'severity': 'safe'}, 'jailbreak': {'filtered': False, 'detected': False}, 'self_harm': {'filtered': False, 'severity': 'safe'}, 'sexual': {'filtered': False, 'severity': 'safe'}, 'violence': {'filtered': False, 'severity': 'safe'}}}], 'finish_reason': 'stop', 'logprobs': None, 'content_filter_results': {'hate': {'filtered': False, 'severity': 'safe'}, 'protected_material_code': {'filtered': False, 'detected': False}, 'protected_material_text': {'filtered': False, 'detected': False}, 'self_harm': {'filtered': False, 'severity': 'safe'}, 'sexual': {'filtered': False, 'severity': 'safe'}, 'violence': {'filtered': False, 'severity': 'safe'}}}, id='run-a49b01e4-8aea-4705-9908-9923d7c359c9-0', usage_metadata={'input_tokens': 70, 'output_tokens': 556, 'total_tokens': 626, 'input_token_details': {}, 'output_token_details': {}})"
      ]
     },
     "execution_count": 7,
     "metadata": {},
     "output_type": "execute_result"
    }
   ],
   "source": [
    "chain.invoke({\"input\": \"I've just purchased a Raspberry Pi and I'm looking for a project to work on. Can you help me brainstorm some ideas?\"})"
   ]
  },
  {
   "cell_type": "markdown",
   "metadata": {},
   "source": [
    "The result will be an `AIMessage` object, which contains the response from the LLM.\n",
    "\n",
    "Let's enhance the chain further to get it to parse the output from the LLM and extract the text from the response. First, we define an output parser."
   ]
  },
  {
   "cell_type": "code",
   "execution_count": 8,
   "metadata": {},
   "outputs": [],
   "source": [
    "from langchain_core.output_parsers import StrOutputParser\n",
    "\n",
    "output_parser = StrOutputParser()"
   ]
  },
  {
   "cell_type": "markdown",
   "metadata": {},
   "source": [
    "Next, we redefine our chain to include the output parser. So now when we invoke the chain, it will \n",
    "\n",
    "- Take the prompt template and add the user's input\n",
    "- Send the prompt to the LLM\n",
    "- Parse the response from the LLM and extract the text"
   ]
  },
  {
   "cell_type": "code",
   "execution_count": 9,
   "metadata": {},
   "outputs": [],
   "source": [
    "chain = prompt | llm | output_parser"
   ]
  },
  {
   "cell_type": "markdown",
   "metadata": {},
   "source": [
    "Now let's invoke the chain again with the same prompt as before."
   ]
  },
  {
   "cell_type": "code",
   "execution_count": 10,
   "metadata": {},
   "outputs": [
    {
     "data": {
      "text/plain": [
       "'Absolutely! Raspberry Pi is a versatile little device, and there are countless projects you can embark on depending on your interests and skill level. Here are some ideas to get you started:\\n\\n1. **Smart Home Hub**: Use your Raspberry Pi to control smart home devices. You can integrate it with platforms like Home Assistant or OpenHAB to manage lights, thermostats, and more.\\n\\n2. **Retro Gaming Console**: Turn your Raspberry Pi into a retro gaming console using RetroPie. You can play classic games from systems like NES, SNES, and Sega Genesis.\\n\\n3. **Media Center**: Create a media center using Kodi or Plex. Stream your favorite movies, shows, and music directly to your TV.\\n\\n4. **Network Attached Storage (NAS)**: Set up your Raspberry Pi as a personal cloud storage system using software like Nextcloud or OpenMediaVault.\\n\\n5. **Weather Station**: Build a weather station using sensors to monitor temperature, humidity, and atmospheric pressure. Display the data on a web dashboard.\\n\\n6. **Security Camera System**: Set up a home security system by connecting cameras to your Raspberry Pi. Use software like MotionEyeOS to manage and stream the footage.\\n\\n7. **Voice Assistant**: Create your own voice-controlled assistant using Mycroft or Google Assistant. You can integrate it to control various devices or fetch information.\\n\\n8. **Ad Blocker**: Install Pi-hole on your Raspberry Pi to block advertisements and trackers across your entire network.\\n\\n9. **Personal Web Server**: Host a personal website or blog using software like Apache or Nginx. You can even try setting up a WordPress site.\\n\\n10. **AI and Machine Learning Projects**: Experiment with AI by setting up a TensorFlow or PyTorch environment on your Pi. You can work on projects like image recognition or natural language processing.\\n\\n11. **Automated Plant Watering System**: Use sensors and a Raspberry Pi to monitor soil moisture levels and automate watering your plants.\\n\\n12. **DIY Smart Mirror**: Create a smart mirror that displays the time, weather, calendar events, and news updates.\\n\\n13. **Bluetooth Speaker System**: Turn your Raspberry Pi into a Bluetooth audio receiver or transmitter and connect it to your home audio system.\\n\\n14. **Time-Lapse Camera**: Use a camera module to create a time-lapse camera that captures stunning footage over time.\\n\\n15. **Fitness Tracker Dashboard**: Connect fitness trackers or smart devices to your Raspberry Pi and create a dashboard to monitor your health metrics.\\n\\nChoose a project that aligns with your interests and the resources you have available. Each project can be expanded or simplified depending on your experience level. Let me know if you want more details on any of these projects or if you have specific requirements!'"
      ]
     },
     "execution_count": 10,
     "metadata": {},
     "output_type": "execute_result"
    }
   ],
   "source": [
    "chain.invoke({\"input\": \"I've just purchased a Raspberry Pi and I'm looking for a project to work on. Can you help me brainstorm some ideas?\"})"
   ]
  },
  {
   "cell_type": "markdown",
   "metadata": {},
   "source": [
    "This time, you should only get a string containing the text from the response.\n",
    "\n",
    "We can do much more powerful things with chains than simply setting up and passing prompts to the LLM and parsing the results. We can augment the prompt with external data retrieved from a database, we could add conversation history to provide context for a chatbot, or we could even chain multiple LLMs together to create a more powerful model. We'll explore some of these ideas in future labs."
   ]
  },
  {
   "attachments": {},
   "cell_type": "markdown",
   "metadata": {},
   "source": [
    "## Summary\n",
    "\n",
    "Langchain is an example of an AI orchestrator. It provides an alternative method to the raw API or using an SDK package to access the AI models, but on top of that can provide additional integrations, deal with issues related to rate limiting of the API and provide an abstraction layer over potentially complex operations. We'll get into those more complex use cases in later labs."
   ]
  },
  {
   "attachments": {},
   "cell_type": "markdown",
   "metadata": {},
   "source": [
    "## Up Next\n",
    "\n",
    "In the next lab, we'll look at another AI Orchestrator - Semantic Kernel."
   ]
  },
  {
   "cell_type": "markdown",
   "metadata": {},
   "source": [
    "## Next Section\n",
    "\n",
    "📣 [Semantic Kernel](../04-SemanticKernel/semantickernel.ipynb)"
   ]
  }
 ],
 "metadata": {
  "kernelspec": {
   "display_name": "Python 3",
   "language": "python",
   "name": "python3"
  },
  "language_info": {
   "codemirror_mode": {
    "name": "ipython",
    "version": 3
   },
   "file_extension": ".py",
   "mimetype": "text/x-python",
   "name": "python",
   "nbconvert_exporter": "python",
   "pygments_lexer": "ipython3",
   "version": "3.13.0"
  },
  "orig_nbformat": 4
 },
 "nbformat": 4,
 "nbformat_minor": 2
}
