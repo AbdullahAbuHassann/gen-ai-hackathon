{
 "cells": [
  {
   "cell_type": "markdown",
   "metadata": {},
   "source": [
    "# Python Modules\n",
    "\n",
    "A handful of Python modules are necessary to use the labs in this repo. The module names are listed in the `requirements.txt` file which can be found in the `labs` folder.\n",
    "\n",
    "Run the below to install the required packages.\n",
    "\n",
    "> **NOTE:** If you're running the labs using GitHub Codespaces or a dev container, these requirements should have already been installed as part of the container setup. However, you can run the below again to confirm everything is installed if you like!"
   ]
  },
  {
   "cell_type": "code",
   "execution_count": 1,
   "metadata": {},
   "outputs": [
    {
     "name": "stdout",
     "output_type": "stream",
     "text": [
      "Requirement already satisfied: openai in /home/vscode/.local/lib/python3.11/site-packages (from -r ../../../requirements.txt (line 1)) (0.27.8)\n",
      "Requirement already satisfied: tiktoken in /home/vscode/.local/lib/python3.11/site-packages (from -r ../../../requirements.txt (line 2)) (0.4.0)\n",
      "Requirement already satisfied: langchain in /home/vscode/.local/lib/python3.11/site-packages (from -r ../../../requirements.txt (line 3)) (0.0.264)\n",
      "Requirement already satisfied: python-dotenv in /home/vscode/.local/lib/python3.11/site-packages (from -r ../../../requirements.txt (line 4)) (1.0.0)\n",
      "Requirement already satisfied: requests in /home/vscode/.local/lib/python3.11/site-packages (from -r ../../../requirements.txt (line 5)) (2.31.0)\n",
      "Requirement already satisfied: unstructured in /home/vscode/.local/lib/python3.11/site-packages (from -r ../../../requirements.txt (line 6)) (0.9.2)\n",
      "Requirement already satisfied: markdown in /home/vscode/.local/lib/python3.11/site-packages (from -r ../../../requirements.txt (line 7)) (3.4.4)\n",
      "Requirement already satisfied: qdrant-client in /home/vscode/.local/lib/python3.11/site-packages (from -r ../../../requirements.txt (line 8)) (1.4.0)\n",
      "Requirement already satisfied: chromadb in /home/vscode/.local/lib/python3.11/site-packages (from -r ../../../requirements.txt (line 9)) (0.4.5)\n",
      "Requirement already satisfied: tqdm in /home/vscode/.local/lib/python3.11/site-packages (from openai->-r ../../../requirements.txt (line 1)) (4.66.1)\n",
      "Requirement already satisfied: aiohttp in /home/vscode/.local/lib/python3.11/site-packages (from openai->-r ../../../requirements.txt (line 1)) (3.8.5)\n",
      "Requirement already satisfied: regex>=2022.1.18 in /home/vscode/.local/lib/python3.11/site-packages (from tiktoken->-r ../../../requirements.txt (line 2)) (2023.8.8)\n",
      "Requirement already satisfied: PyYAML>=5.3 in /home/vscode/.local/lib/python3.11/site-packages (from langchain->-r ../../../requirements.txt (line 3)) (6.0.1)\n",
      "Requirement already satisfied: SQLAlchemy<3,>=1.4 in /home/vscode/.local/lib/python3.11/site-packages (from langchain->-r ../../../requirements.txt (line 3)) (2.0.19)\n",
      "Requirement already satisfied: dataclasses-json<0.6.0,>=0.5.7 in /home/vscode/.local/lib/python3.11/site-packages (from langchain->-r ../../../requirements.txt (line 3)) (0.5.14)\n",
      "Requirement already satisfied: langsmith<0.1.0,>=0.0.11 in /home/vscode/.local/lib/python3.11/site-packages (from langchain->-r ../../../requirements.txt (line 3)) (0.0.22)\n",
      "Requirement already satisfied: numexpr<3.0.0,>=2.8.4 in /home/vscode/.local/lib/python3.11/site-packages (from langchain->-r ../../../requirements.txt (line 3)) (2.8.5)\n",
      "Requirement already satisfied: numpy<2,>=1 in /home/vscode/.local/lib/python3.11/site-packages (from langchain->-r ../../../requirements.txt (line 3)) (1.25.2)\n",
      "Requirement already satisfied: openapi-schema-pydantic<2.0,>=1.2 in /home/vscode/.local/lib/python3.11/site-packages (from langchain->-r ../../../requirements.txt (line 3)) (1.2.4)\n",
      "Requirement already satisfied: pydantic<2,>=1 in /home/vscode/.local/lib/python3.11/site-packages (from langchain->-r ../../../requirements.txt (line 3)) (1.10.12)\n",
      "Requirement already satisfied: tenacity<9.0.0,>=8.1.0 in /home/vscode/.local/lib/python3.11/site-packages (from langchain->-r ../../../requirements.txt (line 3)) (8.2.3)\n",
      "Requirement already satisfied: charset-normalizer<4,>=2 in /home/vscode/.local/lib/python3.11/site-packages (from requests->-r ../../../requirements.txt (line 5)) (3.2.0)\n",
      "Requirement already satisfied: idna<4,>=2.5 in /home/vscode/.local/lib/python3.11/site-packages (from requests->-r ../../../requirements.txt (line 5)) (3.4)\n",
      "Requirement already satisfied: urllib3<3,>=1.21.1 in /home/vscode/.local/lib/python3.11/site-packages (from requests->-r ../../../requirements.txt (line 5)) (1.26.16)\n",
      "Requirement already satisfied: certifi>=2017.4.17 in /home/vscode/.local/lib/python3.11/site-packages (from requests->-r ../../../requirements.txt (line 5)) (2023.7.22)\n",
      "Requirement already satisfied: chardet in /home/vscode/.local/lib/python3.11/site-packages (from unstructured->-r ../../../requirements.txt (line 6)) (5.2.0)\n",
      "Requirement already satisfied: filetype in /home/vscode/.local/lib/python3.11/site-packages (from unstructured->-r ../../../requirements.txt (line 6)) (1.2.0)\n",
      "Requirement already satisfied: python-magic in /home/vscode/.local/lib/python3.11/site-packages (from unstructured->-r ../../../requirements.txt (line 6)) (0.4.27)\n",
      "Requirement already satisfied: lxml in /home/vscode/.local/lib/python3.11/site-packages (from unstructured->-r ../../../requirements.txt (line 6)) (4.9.3)\n",
      "Requirement already satisfied: nltk in /home/vscode/.local/lib/python3.11/site-packages (from unstructured->-r ../../../requirements.txt (line 6)) (3.8.1)\n",
      "Requirement already satisfied: tabulate in /home/vscode/.local/lib/python3.11/site-packages (from unstructured->-r ../../../requirements.txt (line 6)) (0.9.0)\n",
      "Requirement already satisfied: grpcio>=1.41.0 in /home/vscode/.local/lib/python3.11/site-packages (from qdrant-client->-r ../../../requirements.txt (line 8)) (1.57.0)\n",
      "Requirement already satisfied: grpcio-tools>=1.41.0 in /home/vscode/.local/lib/python3.11/site-packages (from qdrant-client->-r ../../../requirements.txt (line 8)) (1.57.0)\n",
      "Requirement already satisfied: httpx[http2]>=0.14.0 in /home/vscode/.local/lib/python3.11/site-packages (from qdrant-client->-r ../../../requirements.txt (line 8)) (0.24.1)\n",
      "Requirement already satisfied: portalocker<3.0.0,>=2.7.0 in /home/vscode/.local/lib/python3.11/site-packages (from qdrant-client->-r ../../../requirements.txt (line 8)) (2.7.0)\n",
      "Requirement already satisfied: chroma-hnswlib==0.7.2 in /home/vscode/.local/lib/python3.11/site-packages (from chromadb->-r ../../../requirements.txt (line 9)) (0.7.2)\n",
      "Requirement already satisfied: fastapi<0.100.0,>=0.95.2 in /home/vscode/.local/lib/python3.11/site-packages (from chromadb->-r ../../../requirements.txt (line 9)) (0.99.1)\n",
      "Requirement already satisfied: uvicorn[standard]>=0.18.3 in /home/vscode/.local/lib/python3.11/site-packages (from chromadb->-r ../../../requirements.txt (line 9)) (0.23.2)\n",
      "Requirement already satisfied: posthog>=2.4.0 in /home/vscode/.local/lib/python3.11/site-packages (from chromadb->-r ../../../requirements.txt (line 9)) (3.0.1)\n",
      "Requirement already satisfied: typing-extensions>=4.5.0 in /home/vscode/.local/lib/python3.11/site-packages (from chromadb->-r ../../../requirements.txt (line 9)) (4.7.1)\n",
      "Requirement already satisfied: pulsar-client>=3.1.0 in /home/vscode/.local/lib/python3.11/site-packages (from chromadb->-r ../../../requirements.txt (line 9)) (3.2.0)\n",
      "Requirement already satisfied: onnxruntime>=1.14.1 in /home/vscode/.local/lib/python3.11/site-packages (from chromadb->-r ../../../requirements.txt (line 9)) (1.15.1)\n",
      "Requirement already satisfied: tokenizers>=0.13.2 in /home/vscode/.local/lib/python3.11/site-packages (from chromadb->-r ../../../requirements.txt (line 9)) (0.13.3)\n",
      "Requirement already satisfied: pypika>=0.48.9 in /home/vscode/.local/lib/python3.11/site-packages (from chromadb->-r ../../../requirements.txt (line 9)) (0.48.9)\n",
      "Requirement already satisfied: overrides>=7.3.1 in /home/vscode/.local/lib/python3.11/site-packages (from chromadb->-r ../../../requirements.txt (line 9)) (7.4.0)\n",
      "Requirement already satisfied: importlib-resources in /home/vscode/.local/lib/python3.11/site-packages (from chromadb->-r ../../../requirements.txt (line 9)) (6.0.1)\n",
      "Requirement already satisfied: attrs>=17.3.0 in /home/vscode/.local/lib/python3.11/site-packages (from aiohttp->openai->-r ../../../requirements.txt (line 1)) (23.1.0)\n",
      "Requirement already satisfied: multidict<7.0,>=4.5 in /home/vscode/.local/lib/python3.11/site-packages (from aiohttp->openai->-r ../../../requirements.txt (line 1)) (6.0.4)\n",
      "Requirement already satisfied: async-timeout<5.0,>=4.0.0a3 in /home/vscode/.local/lib/python3.11/site-packages (from aiohttp->openai->-r ../../../requirements.txt (line 1)) (4.0.3)\n",
      "Requirement already satisfied: yarl<2.0,>=1.0 in /home/vscode/.local/lib/python3.11/site-packages (from aiohttp->openai->-r ../../../requirements.txt (line 1)) (1.9.2)\n",
      "Requirement already satisfied: frozenlist>=1.1.1 in /home/vscode/.local/lib/python3.11/site-packages (from aiohttp->openai->-r ../../../requirements.txt (line 1)) (1.4.0)\n",
      "Requirement already satisfied: aiosignal>=1.1.2 in /home/vscode/.local/lib/python3.11/site-packages (from aiohttp->openai->-r ../../../requirements.txt (line 1)) (1.3.1)\n",
      "Requirement already satisfied: marshmallow<4.0.0,>=3.18.0 in /home/vscode/.local/lib/python3.11/site-packages (from dataclasses-json<0.6.0,>=0.5.7->langchain->-r ../../../requirements.txt (line 3)) (3.20.1)\n",
      "Requirement already satisfied: typing-inspect<1,>=0.4.0 in /home/vscode/.local/lib/python3.11/site-packages (from dataclasses-json<0.6.0,>=0.5.7->langchain->-r ../../../requirements.txt (line 3)) (0.9.0)\n",
      "Requirement already satisfied: starlette<0.28.0,>=0.27.0 in /home/vscode/.local/lib/python3.11/site-packages (from fastapi<0.100.0,>=0.95.2->chromadb->-r ../../../requirements.txt (line 9)) (0.27.0)\n",
      "Requirement already satisfied: protobuf<5.0dev,>=4.21.6 in /home/vscode/.local/lib/python3.11/site-packages (from grpcio-tools>=1.41.0->qdrant-client->-r ../../../requirements.txt (line 8)) (4.24.0)\n",
      "Requirement already satisfied: setuptools in /usr/local/python/3.11.4/lib/python3.11/site-packages (from grpcio-tools>=1.41.0->qdrant-client->-r ../../../requirements.txt (line 8)) (65.5.0)\n",
      "Requirement already satisfied: httpcore<0.18.0,>=0.15.0 in /home/vscode/.local/lib/python3.11/site-packages (from httpx[http2]>=0.14.0->qdrant-client->-r ../../../requirements.txt (line 8)) (0.17.3)\n",
      "Requirement already satisfied: sniffio in /home/vscode/.local/lib/python3.11/site-packages (from httpx[http2]>=0.14.0->qdrant-client->-r ../../../requirements.txt (line 8)) (1.3.0)\n",
      "Requirement already satisfied: h2<5,>=3 in /home/vscode/.local/lib/python3.11/site-packages (from httpx[http2]>=0.14.0->qdrant-client->-r ../../../requirements.txt (line 8)) (4.1.0)\n",
      "Requirement already satisfied: coloredlogs in /home/vscode/.local/lib/python3.11/site-packages (from onnxruntime>=1.14.1->chromadb->-r ../../../requirements.txt (line 9)) (15.0.1)\n",
      "Requirement already satisfied: flatbuffers in /home/vscode/.local/lib/python3.11/site-packages (from onnxruntime>=1.14.1->chromadb->-r ../../../requirements.txt (line 9)) (23.5.26)\n",
      "Requirement already satisfied: packaging in /home/vscode/.local/lib/python3.11/site-packages (from onnxruntime>=1.14.1->chromadb->-r ../../../requirements.txt (line 9)) (23.1)\n",
      "Requirement already satisfied: sympy in /home/vscode/.local/lib/python3.11/site-packages (from onnxruntime>=1.14.1->chromadb->-r ../../../requirements.txt (line 9)) (1.12)\n",
      "Requirement already satisfied: six>=1.5 in /home/vscode/.local/lib/python3.11/site-packages (from posthog>=2.4.0->chromadb->-r ../../../requirements.txt (line 9)) (1.16.0)\n",
      "Requirement already satisfied: monotonic>=1.5 in /home/vscode/.local/lib/python3.11/site-packages (from posthog>=2.4.0->chromadb->-r ../../../requirements.txt (line 9)) (1.6)\n",
      "Requirement already satisfied: backoff>=1.10.0 in /home/vscode/.local/lib/python3.11/site-packages (from posthog>=2.4.0->chromadb->-r ../../../requirements.txt (line 9)) (2.2.1)\n",
      "Requirement already satisfied: python-dateutil>2.1 in /home/vscode/.local/lib/python3.11/site-packages (from posthog>=2.4.0->chromadb->-r ../../../requirements.txt (line 9)) (2.8.2)\n",
      "Requirement already satisfied: greenlet!=0.4.17 in /home/vscode/.local/lib/python3.11/site-packages (from SQLAlchemy<3,>=1.4->langchain->-r ../../../requirements.txt (line 3)) (2.0.2)\n",
      "Requirement already satisfied: click>=7.0 in /home/vscode/.local/lib/python3.11/site-packages (from uvicorn[standard]>=0.18.3->chromadb->-r ../../../requirements.txt (line 9)) (8.1.6)\n",
      "Requirement already satisfied: h11>=0.8 in /home/vscode/.local/lib/python3.11/site-packages (from uvicorn[standard]>=0.18.3->chromadb->-r ../../../requirements.txt (line 9)) (0.14.0)\n",
      "Requirement already satisfied: httptools>=0.5.0 in /home/vscode/.local/lib/python3.11/site-packages (from uvicorn[standard]>=0.18.3->chromadb->-r ../../../requirements.txt (line 9)) (0.6.0)\n",
      "Requirement already satisfied: uvloop!=0.15.0,!=0.15.1,>=0.14.0 in /home/vscode/.local/lib/python3.11/site-packages (from uvicorn[standard]>=0.18.3->chromadb->-r ../../../requirements.txt (line 9)) (0.17.0)\n",
      "Requirement already satisfied: watchfiles>=0.13 in /home/vscode/.local/lib/python3.11/site-packages (from uvicorn[standard]>=0.18.3->chromadb->-r ../../../requirements.txt (line 9)) (0.19.0)\n",
      "Requirement already satisfied: websockets>=10.4 in /home/vscode/.local/lib/python3.11/site-packages (from uvicorn[standard]>=0.18.3->chromadb->-r ../../../requirements.txt (line 9)) (11.0.3)\n",
      "Requirement already satisfied: joblib in /home/vscode/.local/lib/python3.11/site-packages (from nltk->unstructured->-r ../../../requirements.txt (line 6)) (1.3.2)\n",
      "Requirement already satisfied: hyperframe<7,>=6.0 in /home/vscode/.local/lib/python3.11/site-packages (from h2<5,>=3->httpx[http2]>=0.14.0->qdrant-client->-r ../../../requirements.txt (line 8)) (6.0.1)\n",
      "Requirement already satisfied: hpack<5,>=4.0 in /home/vscode/.local/lib/python3.11/site-packages (from h2<5,>=3->httpx[http2]>=0.14.0->qdrant-client->-r ../../../requirements.txt (line 8)) (4.0.0)\n",
      "Requirement already satisfied: anyio<5.0,>=3.0 in /home/vscode/.local/lib/python3.11/site-packages (from httpcore<0.18.0,>=0.15.0->httpx[http2]>=0.14.0->qdrant-client->-r ../../../requirements.txt (line 8)) (3.7.1)\n",
      "Requirement already satisfied: mypy-extensions>=0.3.0 in /home/vscode/.local/lib/python3.11/site-packages (from typing-inspect<1,>=0.4.0->dataclasses-json<0.6.0,>=0.5.7->langchain->-r ../../../requirements.txt (line 3)) (1.0.0)\n",
      "Requirement already satisfied: humanfriendly>=9.1 in /home/vscode/.local/lib/python3.11/site-packages (from coloredlogs->onnxruntime>=1.14.1->chromadb->-r ../../../requirements.txt (line 9)) (10.0)\n",
      "Requirement already satisfied: mpmath>=0.19 in /home/vscode/.local/lib/python3.11/site-packages (from sympy->onnxruntime>=1.14.1->chromadb->-r ../../../requirements.txt (line 9)) (1.3.0)\n",
      "Note: you may need to restart the kernel to use updated packages.\n"
     ]
    }
   ],
   "source": [
    "pip install -r ../../../requirements.txt"
   ]
  },
  {
   "cell_type": "markdown",
   "metadata": {},
   "source": [
    "If there are no errors above, you can proceed with the rest of the labs."
   ]
  }
 ],
 "metadata": {
  "kernelspec": {
   "display_name": ".venv",
   "language": "python",
   "name": "python3"
  },
  "language_info": {
   "codemirror_mode": {
    "name": "ipython",
    "version": 3
   },
   "file_extension": ".py",
   "mimetype": "text/x-python",
   "name": "python",
   "nbconvert_exporter": "python",
   "pygments_lexer": "ipython3",
   "version": "3.11.4"
  },
  "orig_nbformat": 4
 },
 "nbformat": 4,
 "nbformat_minor": 2
}
