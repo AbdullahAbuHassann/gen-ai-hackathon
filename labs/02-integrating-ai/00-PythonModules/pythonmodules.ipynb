{
 "cells": [
  {
   "cell_type": "markdown",
   "metadata": {},
   "source": [
    "# Python Modules\n",
    "\n",
    "A handful of Python modules are necessary to use the labs in this repo. The module names are listed in the `requirements.txt` file which can be found in the root of this repository.\n",
    "\n",
    "Run the below to install the required packages.\n",
    "\n",
    "> **NOTE:** If you're running the labs using GitHub Codespaces or a dev container, these requirements should have already been installed as part of the container setup. However, you can run the below again to confirm everything is installed if you like!"
   ]
  },
  {
   "cell_type": "code",
   "execution_count": 1,
   "metadata": {},
   "outputs": [
    {
     "name": "stdout",
     "output_type": "stream",
     "text": [
      "Collecting azure-core==1.30.2 (from -r ../../../requirements.txt (line 1))\n",
      "  Using cached azure_core-1.30.2-py3-none-any.whl.metadata (37 kB)\n",
      "Collecting azure-identity==1.17.0 (from -r ../../../requirements.txt (line 2))\n",
      "  Using cached azure_identity-1.17.0-py3-none-any.whl.metadata (79 kB)\n",
      "Collecting azure-search-documents==11.5.1 (from -r ../../../requirements.txt (line 3))\n",
      "  Using cached azure_search_documents-11.5.1-py3-none-any.whl.metadata (23 kB)\n",
      "\u001b[31mERROR: Ignored the following yanked versions: 0.0.1.dev0, 0.1.0.dev0, 0.2.0.dev0, 0.2.5.dev0\u001b[0m\u001b[31m\n",
      "\u001b[0m\u001b[31mERROR: Ignored the following versions that require a different python version: 0.9.2b1 Requires-Python >=3.8,<3.13; 0.9.3b1 Requires-Python >=3.8,<3.13; 0.9.4b1 Requires-Python <3.13,>=3.8; 0.9.5b1 Requires-Python <3.13,>=3.8; 0.9.6b1 Requires-Python <3.13,>=3.8; 0.9.7b1 Requires-Python <3.13,>=3.10; 0.9.8b1 Requires-Python <3.13,>=3.10; 0.9.9b1 Requires-Python <3.13,>=3.10; 1.0.0 Requires-Python <3.13,>=3.10; 1.0.0rc1 Requires-Python <3.13,>=3.10; 1.0.1 Requires-Python <3.13,>=3.10; 1.0.2 Requires-Python <3.13,>=3.10; 1.0.3 Requires-Python <3.13,>=3.10; 1.0.4 Requires-Python <3.13,>=3.10; 1.0.5 Requires-Python <3.13,>=3.10; 1.1.0 Requires-Python <3.13,>=3.10; 1.1.1 Requires-Python <3.13,>=3.10; 1.1.2 Requires-Python <3.13,>=3.10; 1.10.0 Requires-Python <3.13,>=3.10; 1.10.1 Requires-Python <3.13,>=3.10; 1.11.0 Requires-Python <3.13,>=3.10; 1.12.0 Requires-Python <3.13,>=3.10; 1.12.1 Requires-Python <3.13,>=3.10; 1.13.0 Requires-Python <3.13,>=3.10; 1.2.0 Requires-Python <3.13,>=3.10; 1.3.0 Requires-Python <3.13,>=3.10; 1.4.0 Requires-Python <3.13,>=3.10; 1.5.0 Requires-Python <3.13,>=3.10; 1.5.1 Requires-Python <3.13,>=3.10; 1.6.0 Requires-Python <3.13,>=3.10; 1.7.0 Requires-Python <3.13,>=3.10; 1.8.0 Requires-Python <3.13,>=3.10; 1.8.1 Requires-Python <3.13,>=3.10; 1.8.2 Requires-Python <3.13,>=3.10; 1.8.3 Requires-Python <3.13,>=3.10; 1.9.0 Requires-Python <3.13,>=3.10\u001b[0m\u001b[31m\n",
      "\u001b[0m\u001b[31mERROR: Could not find a version that satisfies the requirement semantic-kernel==1.8.3 (from versions: 0.2.1.dev0, 0.2.2.dev0, 0.2.3.dev0, 0.2.4.dev0, 0.2.6.dev0, 0.2.7.dev0, 0.2.8.dev0, 0.2.9.dev0, 0.3.0.dev0, 0.3.1.dev0, 0.3.2.dev0, 0.3.3.dev0, 0.3.4.dev0, 0.3.5.dev0, 0.3.6.dev0, 0.3.7.dev0, 0.3.8.dev0, 0.3.9.dev0, 0.3.10.dev0, 0.3.11.dev0, 0.3.12.dev0, 0.3.13.dev0, 0.3.14.dev0, 0.3.15.dev0, 0.4.0.dev0, 0.4.1.dev0, 0.4.2.dev0, 0.4.3.dev0, 0.4.4.dev0, 0.4.5.dev0, 0.4.6.dev0, 0.4.7.dev0, 0.5.0.dev0, 0.5.1.dev0, 0.9.0b1, 0.9.1b1, 1.14.0, 1.15.0, 1.16.0, 1.17.0)\u001b[0m\u001b[31m\n",
      "\u001b[0m\u001b[31mERROR: No matching distribution found for semantic-kernel==1.8.3\u001b[0m\u001b[31m\n",
      "\u001b[0mNote: you may need to restart the kernel to use updated packages.\n"
     ]
    }
   ],
   "source": [
    "%pip install -r ../../../requirements.txt"
   ]
  },
  {
   "cell_type": "markdown",
   "metadata": {},
   "source": [
    "If there are no errors above, you can proceed with the rest of the labs."
   ]
  },
  {
   "cell_type": "markdown",
   "metadata": {},
   "source": [
    "## Next Section\n",
    "\n",
    "📣 [Azure OpenAI API](../01-AzureOpenAIAPI/azureopenaiapi.ipynb)"
   ]
  }
 ],
 "metadata": {
  "kernelspec": {
   "display_name": "Python 3",
   "language": "python",
   "name": "python3"
  },
  "language_info": {
   "codemirror_mode": {
    "name": "ipython",
    "version": 3
   },
   "file_extension": ".py",
   "mimetype": "text/x-python",
   "name": "python",
   "nbconvert_exporter": "python",
   "pygments_lexer": "ipython3",
   "version": "3.13.0"
  },
  "orig_nbformat": 4
 },
 "nbformat": 4,
 "nbformat_minor": 2
}
